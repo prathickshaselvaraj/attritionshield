{
 "cells": [
  {
   "cell_type": "code",
   "execution_count": 1,
   "id": "54a04e9c",
   "metadata": {},
   "outputs": [
    {
     "name": "stdout",
     "output_type": "stream",
     "text": [
      "=== BUILDING ATTRITION PREDICTION MODEL ===\n",
      "Target: Predict the 237 employees who will leave\n",
      "Using 10 key features identified from HR analysis\n",
      "Features: ['MonthlyIncome', 'OverTime', 'YearsAtCompany', 'JobSatisfaction', 'WorkLifeBalance', 'YearsSinceLastPromotion', 'BusinessTravel', 'JobRole', 'Department', 'PerformanceRating']\n"
     ]
    }
   ],
   "source": [
    "# notebooks/3_model_training.ipynb\n",
    "import pandas as pd\n",
    "import numpy as np\n",
    "from sklearn.model_selection import train_test_split\n",
    "from sklearn.ensemble import RandomForestClassifier\n",
    "from sklearn.metrics import classification_report, confusion_matrix\n",
    "import matplotlib.pyplot as plt\n",
    "import seaborn as sns\n",
    "\n",
    "# Load data\n",
    "df = pd.read_csv('../data/employee_attrition.csv')\n",
    "\n",
    "print(\"=== BUILDING ATTRITION PREDICTION MODEL ===\")\n",
    "print(f\"Target: Predict the {df['Attrition'].value_counts()['Yes']} employees who will leave\")\n",
    "\n",
    "# Convert target to binary\n",
    "df['Attrition'] = df['Attrition'].map({'Yes': 1, 'No': 0})\n",
    "\n",
    "# Select features based on our HR analysis\n",
    "features = ['MonthlyIncome', 'OverTime', 'YearsAtCompany', 'JobSatisfaction', \n",
    "           'WorkLifeBalance', 'YearsSinceLastPromotion', 'BusinessTravel',\n",
    "           'JobRole', 'Department', 'PerformanceRating']\n",
    "\n",
    "print(f\"Using {len(features)} key features identified from HR analysis\")\n",
    "print(\"Features:\", features)"
   ]
  },
  {
   "cell_type": "code",
   "execution_count": 2,
   "id": "57692370",
   "metadata": {},
   "outputs": [
    {
     "name": "stdout",
     "output_type": "stream",
     "text": [
      "We'll compare:\n",
      "1. Random Forest - For high accuracy\n",
      "2. Logistic Regression - For interpretable insights\n",
      "3. Feature Importance - To show key drivers (like we found: Income, Overtime, etc.)\n"
     ]
    }
   ],
   "source": [
    "from sklearn.ensemble import RandomForestClassifier\n",
    "from sklearn.linear_model import LogisticRegression\n",
    "from sklearn.metrics import accuracy_score, classification_report\n",
    "\n",
    "# Two models for comparison\n",
    "models = {\n",
    "    'Random Forest': RandomForestClassifier(n_estimators=100, random_state=42),\n",
    "    'Logistic Regression': LogisticRegression(max_iter=1000)\n",
    "}\n",
    "\n",
    "print(\"We'll compare:\")\n",
    "print(\"1. Random Forest - For high accuracy\")\n",
    "print(\"2. Logistic Regression - For interpretable insights\")\n",
    "print(\"3. Feature Importance - To show key drivers (like we found: Income, Overtime, etc.)\")\n"
   ]
  },
  {
   "cell_type": "code",
   "execution_count": 3,
   "id": "7e57f45d",
   "metadata": {},
   "outputs": [
    {
     "name": "stdout",
     "output_type": "stream",
     "text": [
      "Feature engineering completed:\n",
      "X shape: (1470, 10), y shape: (1470,)\n",
      "Categorical features encoded: ['OverTime', 'BusinessTravel', 'JobRole', 'Department']\n",
      "\n",
      "Training set: 1176 samples\n",
      "Test set: 294 samples\n",
      "Attrition in training: {0: 986, 1: 190}\n"
     ]
    }
   ],
   "source": [
    "\n",
    "\n",
    "# Feature Engineering\n",
    "from sklearn.preprocessing import LabelEncoder\n",
    "from sklearn.model_selection import train_test_split\n",
    "\n",
    "# Prepare features - handle categorical variables\n",
    "X = df[features].copy()\n",
    "y = df['Attrition']\n",
    "\n",
    "# Encode categorical variables\n",
    "label_encoders = {}\n",
    "categorical_cols = ['OverTime', 'BusinessTravel', 'JobRole', 'Department']\n",
    "\n",
    "for col in categorical_cols:\n",
    "    le = LabelEncoder()\n",
    "    X[col] = le.fit_transform(X[col])\n",
    "    label_encoders[col] = le\n",
    "\n",
    "print(\"Feature engineering completed:\")\n",
    "print(f\"X shape: {X.shape}, y shape: {y.shape}\")\n",
    "print(f\"Categorical features encoded: {categorical_cols}\")\n",
    "\n",
    "# Split data\n",
    "X_train, X_test, y_train, y_test = train_test_split(X, y, test_size=0.2, random_state=42, stratify=y)\n",
    "\n",
    "print(f\"\\nTraining set: {X_train.shape[0]} samples\")\n",
    "print(f\"Test set: {X_test.shape[0]} samples\")\n",
    "print(f\"Attrition in training: {y_train.value_counts().to_dict()}\")"
   ]
  },
  {
   "cell_type": "code",
   "execution_count": 4,
   "id": "4093f33f",
   "metadata": {},
   "outputs": [
    {
     "name": "stdout",
     "output_type": "stream",
     "text": [
      "=== TRAINING MODELS ===\n",
      "\n",
      "--- Training Random Forest ---\n",
      "Accuracy: 0.837\n",
      "\n",
      "--- Training Logistic Regression ---\n",
      "Accuracy: 0.854\n",
      "\n",
      "=== MODEL COMPARISON ===\n",
      "Random Forest: 0.837 accuracy\n",
      "Logistic Regression: 0.854 accuracy\n",
      "\n",
      "🎯 BEST MODEL: Logistic Regression\n"
     ]
    }
   ],
   "source": [
    "# ADD TO notebooks/3_model_training.ipynb\n",
    "\n",
    "print(\"=== TRAINING MODELS ===\")\n",
    "\n",
    "# Train and evaluate models\n",
    "results = {}\n",
    "\n",
    "for name, model in models.items():\n",
    "    print(f\"\\n--- Training {name} ---\")\n",
    "    model.fit(X_train, y_train)\n",
    "    \n",
    "    # Predictions\n",
    "    y_pred = model.predict(X_test)\n",
    "    y_pred_proba = model.predict_proba(X_test)[:, 1]  # Probability of attrition\n",
    "    \n",
    "    # Metrics\n",
    "    accuracy = accuracy_score(y_test, y_pred)\n",
    "    print(f\"Accuracy: {accuracy:.3f}\")\n",
    "    \n",
    "    # Store results\n",
    "    results[name] = {\n",
    "        'model': model,\n",
    "        'accuracy': accuracy,\n",
    "        'predictions': y_pred,\n",
    "        'probabilities': y_pred_proba\n",
    "    }\n",
    "\n",
    "print(f\"\\n=== MODEL COMPARISON ===\")\n",
    "for name, result in results.items():\n",
    "    print(f\"{name}: {result['accuracy']:.3f} accuracy\")\n",
    "\n",
    "# Show detailed performance\n",
    "best_model_name = max(results, key=lambda x: results[x]['accuracy'])\n",
    "print(f\"\\n🎯 BEST MODEL: {best_model_name}\")"
   ]
  },
  {
   "cell_type": "code",
   "execution_count": 5,
   "id": "e13c72a4",
   "metadata": {},
   "outputs": [
    {
     "name": "stdout",
     "output_type": "stream",
     "text": [
      "=== MODEL ANALYSIS & BUSINESS INSIGHTS ===\n",
      "TOP ATTRITION DRIVERS (Logistic Regression Coefficients):\n",
      "                   feature  coefficient  abs_impact\n",
      "1                 OverTime     1.292062    1.292062\n",
      "8               Department     0.503292    0.503292\n",
      "4          WorkLifeBalance    -0.403695    0.403695\n",
      "3          JobSatisfaction    -0.276380    0.276380\n",
      "5  YearsSinceLastPromotion     0.117695    0.117695\n",
      "2           YearsAtCompany    -0.115646    0.115646\n",
      "9        PerformanceRating     0.111327    0.111327\n",
      "6           BusinessTravel    -0.049722    0.049722\n",
      "7                  JobRole    -0.031971    0.031971\n",
      "0            MonthlyIncome    -0.000117    0.000117\n",
      "\n",
      "🔍 BUSINESS INTERPRETATION:\n",
      "POSITIVE coefficients INCREASE attrition risk\n",
      "NEGATIVE coefficients DECREASE attrition risk\n",
      "\n",
      "🎯 ACTIONABLE INSIGHTS:\n",
      "• OverTime INCREASES attrition risk\n",
      "• Department INCREASES attrition risk\n",
      "• WorkLifeBalance REDUCES attrition risk\n",
      "• JobSatisfaction REDUCES attrition risk\n",
      "• YearsSinceLastPromotion INCREASES attrition risk\n",
      "\n",
      "💾 Model saved as 'trained_model.pkl'\n"
     ]
    }
   ],
   "source": [
    "# ADD TO notebooks/3_model_training.ipynb\n",
    "\n",
    "print(\"=== MODEL ANALYSIS & BUSINESS INSIGHTS ===\")\n",
    "\n",
    "# Get Logistic Regression coefficients for interpretability\n",
    "lr_model = results['Logistic Regression']['model']\n",
    "feature_importance = pd.DataFrame({\n",
    "    'feature': X.columns,\n",
    "    'coefficient': lr_model.coef_[0],\n",
    "    'abs_impact': np.abs(lr_model.coef_[0])\n",
    "}).sort_values('abs_impact', ascending=False)\n",
    "\n",
    "print(\"TOP ATTRITION DRIVERS (Logistic Regression Coefficients):\")\n",
    "print(feature_importance.head(10))\n",
    "\n",
    "print(\"\\n🔍 BUSINESS INTERPRETATION:\")\n",
    "print(\"POSITIVE coefficients INCREASE attrition risk\")\n",
    "print(\"NEGATIVE coefficients DECREASE attrition risk\")\n",
    "\n",
    "# Show what each feature means\n",
    "feature_direction = []\n",
    "for _, row in feature_importance.iterrows():\n",
    "    direction = \"INCREASES\" if row['coefficient'] > 0 else \"REDUCES\"\n",
    "    feature_direction.append(f\"{row['feature']} {direction} attrition risk\")\n",
    "\n",
    "print(\"\\n🎯 ACTIONABLE INSIGHTS:\")\n",
    "for insight in feature_direction[:5]:  # Top 5 drivers\n",
    "    print(f\"• {insight}\")\n",
    "\n",
    "# Save the best model\n",
    "import pickle\n",
    "with open('../models/trained_model.pkl', 'wb') as f:\n",
    "    pickle.dump(lr_model, f)\n",
    "print(f\"\\n💾 Model saved as 'trained_model.pkl'\")"
   ]
  },
  {
   "cell_type": "code",
   "execution_count": null,
   "id": "af7a8fe6",
   "metadata": {},
   "outputs": [],
   "source": []
  }
 ],
 "metadata": {
  "kernelspec": {
   "display_name": "base",
   "language": "python",
   "name": "python3"
  },
  "language_info": {
   "codemirror_mode": {
    "name": "ipython",
    "version": 3
   },
   "file_extension": ".py",
   "mimetype": "text/x-python",
   "name": "python",
   "nbconvert_exporter": "python",
   "pygments_lexer": "ipython3",
   "version": "3.11.7"
  }
 },
 "nbformat": 4,
 "nbformat_minor": 5
}
