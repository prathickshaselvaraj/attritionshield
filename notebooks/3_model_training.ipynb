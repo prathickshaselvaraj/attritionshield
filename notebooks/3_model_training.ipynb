{
 "cells": [
  {
   "cell_type": "code",
   "execution_count": 1,
   "id": "54a04e9c",
   "metadata": {},
   "outputs": [
    {
     "name": "stdout",
     "output_type": "stream",
     "text": [
      "=== BUILDING ATTRITION PREDICTION MODEL ===\n",
      "Target: Predict the 237 employees who will leave\n",
      "Using 10 key features identified from HR analysis\n",
      "Features: ['MonthlyIncome', 'OverTime', 'YearsAtCompany', 'JobSatisfaction', 'WorkLifeBalance', 'YearsSinceLastPromotion', 'BusinessTravel', 'JobRole', 'Department', 'PerformanceRating']\n"
     ]
    }
   ],
   "source": [
    "# notebooks/3_model_training.ipynb\n",
    "import pandas as pd\n",
    "import numpy as np\n",
    "from sklearn.model_selection import train_test_split\n",
    "from sklearn.ensemble import RandomForestClassifier\n",
    "from sklearn.metrics import classification_report, confusion_matrix\n",
    "import matplotlib.pyplot as plt\n",
    "import seaborn as sns\n",
    "\n",
    "# Load data\n",
    "df = pd.read_csv('../data/employee_attrition.csv')\n",
    "\n",
    "print(\"=== BUILDING ATTRITION PREDICTION MODEL ===\")\n",
    "print(f\"Target: Predict the {df['Attrition'].value_counts()['Yes']} employees who will leave\")\n",
    "\n",
    "# Convert target to binary\n",
    "df['Attrition'] = df['Attrition'].map({'Yes': 1, 'No': 0})\n",
    "\n",
    "# Select features based on our HR analysis\n",
    "features = ['MonthlyIncome', 'OverTime', 'YearsAtCompany', 'JobSatisfaction', \n",
    "           'WorkLifeBalance', 'YearsSinceLastPromotion', 'BusinessTravel',\n",
    "           'JobRole', 'Department', 'PerformanceRating']\n",
    "\n",
    "print(f\"Using {len(features)} key features identified from HR analysis\")\n",
    "print(\"Features:\", features)"
   ]
  },
  {
   "cell_type": "code",
   "execution_count": 2,
   "id": "57692370",
   "metadata": {},
   "outputs": [
    {
     "name": "stdout",
     "output_type": "stream",
     "text": [
      "We'll compare:\n",
      "1. Random Forest - For high accuracy\n",
      "2. Logistic Regression - For interpretable insights\n",
      "3. Feature Importance - To show key drivers (like we found: Income, Overtime, etc.)\n"
     ]
    }
   ],
   "source": [
    "from sklearn.ensemble import RandomForestClassifier\n",
    "from sklearn.linear_model import LogisticRegression\n",
    "from sklearn.metrics import accuracy_score, classification_report\n",
    "\n",
    "# Two models for comparison\n",
    "models = {\n",
    "    'Random Forest': RandomForestClassifier(n_estimators=100, random_state=42),\n",
    "    'Logistic Regression': LogisticRegression(max_iter=1000)\n",
    "}\n",
    "\n",
    "print(\"We'll compare:\")\n",
    "print(\"1. Random Forest - For high accuracy\")\n",
    "print(\"2. Logistic Regression - For interpretable insights\")\n",
    "print(\"3. Feature Importance - To show key drivers (like we found: Income, Overtime, etc.)\")\n"
   ]
  },
  {
   "cell_type": "code",
   "execution_count": null,
   "id": "7e57f45d",
   "metadata": {},
   "outputs": [],
   "source": []
  }
 ],
 "metadata": {
  "kernelspec": {
   "display_name": "base",
   "language": "python",
   "name": "python3"
  },
  "language_info": {
   "codemirror_mode": {
    "name": "ipython",
    "version": 3
   },
   "file_extension": ".py",
   "mimetype": "text/x-python",
   "name": "python",
   "nbconvert_exporter": "python",
   "pygments_lexer": "ipython3",
   "version": "3.11.7"
  }
 },
 "nbformat": 4,
 "nbformat_minor": 5
}
